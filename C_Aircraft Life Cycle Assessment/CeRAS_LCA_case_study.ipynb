{
 "cells": [
  {
   "cell_type": "markdown",
   "metadata": {},
   "source": [
    "<div class=\"row\">\n",
    "  <div class=\"column\">\n",
    "    <img src=\"./img/logo-onera.png\" width=\"200\">\n",
    "  </div>\n",
    "  <div class=\"column\">\n",
    "    <img src=\"./img/logo-ISAE_SUPAERO.png\" width=\"200\">\n",
    "  </div>\n",
    "</div>"
   ]
  },
  {
   "cell_type": "markdown",
   "metadata": {},
   "source": [
    "# CeRAS life cycle assessment case study"
   ]
  },
  {
   "cell_type": "markdown",
   "metadata": {},
   "source": [
    "This tutorial aims to generate the several environmental impacts of a CeRAS aircraft (based on report results, more information about the CeRAS reference aircraft configuration can be found [here](https://ceras.ilr.rwth-aachen.de/trac/wiki/CeRAS/AircraftDesigns/CSR01)). These impacts correspond to ReCiPe impacts category at both Midpoint and Endpoint levels.\n",
    "\n",
    "This environmental study is conducted through the sizing of the CeRAS aircraft for a 2500NM mission range, and results are given for a longer range (2750NM) and a shorter one (500NM), for which a comparison is then made between both ranges."
   ]
  },
  {
   "cell_type": "markdown",
   "metadata": {},
   "source": [
    "***\n",
    "***"
   ]
  },
  {
   "cell_type": "code",
   "execution_count": null,
   "metadata": {},
   "outputs": [],
   "source": [
    "import warnings\n",
    "warnings.filterwarnings(action='ignore')"
   ]
  },
  {
   "cell_type": "markdown",
   "metadata": {},
   "source": [
    "## Imports"
   ]
  },
  {
   "cell_type": "code",
   "execution_count": null,
   "metadata": {},
   "outputs": [],
   "source": [
    "import os.path as pth\n",
    "import sys\n",
    "import logging\n",
    "import shutil\n",
    "\n",
    "import openmdao.api as om\n",
    "\n",
    "import fastoad.api as oad\n",
    "from fastoad.io import VariableIO\n",
    "\n",
    "import numpy as np\n",
    "import pandas as pd\n",
    "import plotly.express as px\n",
    "import plotly.graph_objects as go\n",
    "\n",
    "sys.path.append(pth.abspath(\".\"))\n",
    "from ceras_utils import plot_mission_against_ceras"
   ]
  },
  {
   "cell_type": "markdown",
   "metadata": {},
   "source": [
    "## Working directories and reference files\n",
    "Here you can define your working directory and data storage folder as well as reference files names. "
   ]
  },
  {
   "cell_type": "code",
   "execution_count": null,
   "metadata": {},
   "outputs": [],
   "source": [
    "logging.basicConfig(level=logging.INFO, format=\"%(levelname)-8s: %(message)s\")\n",
    "\n",
    "DATA_FOLDER_PATH = \"data\"\n",
    "\n",
    "WORK_FOLDER_PATH = \"workdir\"\n",
    "\n",
    "SOURCE_FILE = pth.join(DATA_FOLDER_PATH, \"CeRAS_reference_data_lca.xml\")\n",
    "\n",
    "REFERENCE_FILE_FOR_PLOT = pth.join(DATA_FOLDER_PATH, \"CeRAS_data_for_plots.xml\")\n",
    "\n",
    "CERAS_REFERENCE_RESULTS_FILE = pth.join(DATA_FOLDER_PATH, \"CSR-01_missionDesign_R4630_PL17000_out.csv\")\n",
    "\n",
    "CERAS_SPP_DESIGN_REFERENCE_RESULTS_FILE = pth.join(DATA_FOLDER_PATH, \"CSR-01_missionStudy_R5093_PL13608_out.csv\")\n",
    "\n",
    "CERAS_SPP_STUDY_REFERENCE_RESULTS_FILE = pth.join(DATA_FOLDER_PATH, \"CSR-01_missionStudy_R926_PL13608_out.csv\")"
   ]
  },
  {
   "cell_type": "markdown",
   "metadata": {},
   "source": [
    "***\n",
    "***\n",
    "\n",
    "## 2. CeRAS reference case\n",
    "Here, the CeRAS reference case is retrieved. \n",
    "\n",
    "The reference mission characteristics used for the sizing correspond to the *\"MTOW mission\"* defined in the CeRAS report whose specifications are reminded below:\n",
    "\n",
    "* Range = 2500NM\n",
    "* Diversion range = 200NM\n",
    "* Payload = 17000kg\n",
    "* Taxi in = 5min \n",
    "* Taxi out = 9min \n",
    "* Cruise Mach = 0.78\n",
    "\n",
    "For the LCA purpose, only the main route segment is considered, therefore the considered range is 2500NM.\n",
    "\n",
    "Once you create an adapted mission file you should generate or retrieve a configuration file that would allow for a mission analysis to be run. Let's have a look to such a [file](./data/operational_missions.yml): "
   ]
  },
  {
   "cell_type": "code",
   "execution_count": null,
   "metadata": {},
   "outputs": [],
   "source": [
    "CONFIGURATION_FILE = pth.join(DATA_FOLDER_PATH, \"operational_missions.yml\")\n",
    "SOURCE_FILE = pth.join(DATA_FOLDER_PATH, \"oad_sizing_out.xml\")\n",
    "input_file = oad.generate_inputs(CONFIGURATION_FILE, SOURCE_FILE, overwrite=True)"
   ]
  },
  {
   "cell_type": "markdown",
   "metadata": {},
   "source": [
    "## 3. Operational missions runs\n",
    "### 3.1. Configuration\n",
    "\n",
    "Now that the reference case has been retrieved, the simulation for the longer ans shorter ranges can be operated.\n",
    "Their environmental analyzes are ccomputed with a set of assumptions:\n",
    "\n",
    "* Load factor = 80% (120 passengers)\n",
    "* Payload mass = 10886 kg\n",
    "* Life duration of the aircraft = 25 years\n",
    "* Number of cycles = 1198 for the 2750NM mission and 6590 for the 500NM mission\n",
    "\n",
    "More information about the detailed LCA configuration can be found [here](https://arc.aiaa.org/doi/abs/10.2514/6.2022-1028). \n",
    "\n",
    "The `variable_viewer` can be used to change the range and the number of cycle to study both cases."
   ]
  },
  {
   "cell_type": "code",
   "execution_count": null,
   "metadata": {},
   "outputs": [],
   "source": [
    "oad.variable_viewer(input_file)"
   ]
  },
  {
   "cell_type": "code",
   "execution_count": null,
   "metadata": {
    "scrolled": true
   },
   "outputs": [],
   "source": [
    "SPP_problem = oad.evaluate_problem(CONFIGURATION_FILE, overwrite=True)"
   ]
  },
  {
   "cell_type": "markdown",
   "metadata": {},
   "source": [
    "The XML [output file](./workdir/operational_missions_out.xml) can be displayed in a table format using `variable_viewer`function."
   ]
  },
  {
   "cell_type": "code",
   "execution_count": null,
   "metadata": {
    "scrolled": true
   },
   "outputs": [],
   "source": [
    "oad.variable_viewer(SPP_problem.output_file_path)"
   ]
  },
  {
   "cell_type": "markdown",
   "metadata": {},
   "source": [
    "### 3.2. LCA results\n",
    "\n",
    "#### 3.2..1. Climate Change first approximation - manual calculations\n",
    "Based on the fuel consumption (OUTPUTS <i>data:mission:step:fuel_burn:total</i>) it is possible to have a first approximation regarding the Climate Change indicator. To do so, only carbon dioxide emissions are considered to decomplexify the problem. \n",
    "\n",
    "The final result need to be expressed per passenger.kilometer and needs to take into account the emissions from the fuel combustion but also the fuel production.\n",
    "\n",
    "More precisely, you will need the following information:\n",
    "\n",
    "* Fuel burn\n",
    "* Range\n",
    "* Number of passengers\n",
    "* Carbon dioxide emission index\n",
    "* Estimate the percentage that the fuel production represents (in terms of emissions) as compared to the fuel combustion"
   ]
  },
  {
   "cell_type": "code",
   "execution_count": null,
   "metadata": {},
   "outputs": [],
   "source": [
    "#Manual calculations here\n",
    "\n",
    "comb=15179.605696424993*3.15/(5093*120)\n",
    "prod=0.15*comb\n",
    "climate_change=comb+prod\n",
    "print(climate_change,\"kgCO2/pax.km\")"
   ]
  },
  {
   "cell_type": "markdown",
   "metadata": {},
   "source": [
    "#### 3.2.2. Midpoint\n",
    "\n",
    "Now that the simulation is finished, it is possible to display the LCA results by plotting the Midpoint graph composed of 18 environmental indicators, and the contribution of each aircraft life cycle phase on these indicators. \n",
    "\n",
    "As each one of them has a specific unit, the plotted bar chart has been scaled and the results are express in percentage. However, the raw values can be seen by positioning the mouse on the bars."
   ]
  },
  {
   "cell_type": "code",
   "execution_count": null,
   "metadata": {},
   "outputs": [],
   "source": [
    "data_midpoint={\"Indicators\":[\"Agricultural Land Occupation (m2.a)\", \"Climate Change (kg CO2-eq)\",\"Fossil Depletion (kg oil-eq)\", \n",
    "                    \"Freshwater Ecotoxicity (kg 1,4-DCB)\", \"Freshwater Eutrophication (kg P-eq)\", \"Human Toxicity (kg 1,4-DCB)\",\n",
    "                    \"Ionizing Radiation (kBq U235-eq)\",\"Marine Ecotoxicity (kg 1,4-DCB)\",\"Marine Eutrophication (kg N-eq)\", \n",
    "                    \"Metal Depletion (kg Fe-eq)\", \"Natural Land Transformation (m2)\", \"Ozone Depletion (kg CFC-11)\",\n",
    "                    \"Particulate Matter Formation (kg PM10-eq)\", \"Photochemical Oxidant Formation (kg NMVOC)\", \n",
    "                    \"Terrestrial Acidification (kg SO2-eq)\",\"Terrestrial Ecotoxicity (kg 1,4-DCB)\", \n",
    "                    \"Urban Land Occupation (m2.a)\", \"Water Depletion (m3)\"], \n",
    "               \"Aircraft Production\":SPP_problem[\"data:lca:midpoint:total:dataframe\"][:,0],\n",
    "               \"Aircraft Production value\":SPP_problem[\"data:lca:midpoint:total:dataframe\"][:,0],\n",
    "               \"Airport\":SPP_problem[\"data:lca:midpoint:total:dataframe\"][:,1],\n",
    "               \"Airport value\":SPP_problem[\"data:lca:midpoint:total:dataframe\"][:,1],\n",
    "               \"Fuel Production\":SPP_problem[\"data:lca:midpoint:total:dataframe\"][:,2],\n",
    "               \"Fuel Production value\":SPP_problem[\"data:lca:midpoint:total:dataframe\"][:,2],\n",
    "               \"Aircraft Use\":SPP_problem[\"data:lca:midpoint:total:dataframe\"][:,3],\n",
    "               \"Aircraft Use value\":SPP_problem[\"data:lca:midpoint:total:dataframe\"][:,3],\n",
    "               \"Total\":SPP_problem[\"data:lca:midpoint:total:dataframe\"][:,4]}\n",
    "\n",
    "midpoint_df=pd.DataFrame(data_midpoint)\n",
    "\n",
    "fig_midpoint = px.bar(data_frame=midpoint_df, x=\"Indicators\", \n",
    "                      y=[\"Aircraft Production\",\"Airport\",\"Fuel Production\",\"Aircraft Use\"],  width=1000, height=800,\n",
    "                      color_discrete_sequence=['darkorange','gold','darkgray','royalblue'],barmode=\"relative\",\n",
    "                      title=\"<b>CeRAS Midpoint Impact Category results<b>\", \n",
    "                      hover_data=[ \"Aircraft Production value\", \"Airport value\", \"Fuel Production value\", \"Aircraft Use value\",\n",
    "                                  \"Total\"])\n",
    "fig_midpoint.update_layout(template=\"simple_white\", xaxis_title=\"Midpoint impact categories\",xaxis_tickangle=-45,title_x=0.5,\n",
    "                           yaxis_title=\"Percentage\", barnorm=\"percent\", font_family=\"Arial\", title_font_size=20,\n",
    "                           legend_title=\"<b>CeRAS LCA perimeters<b>\", font_size=15,legend_font_family=\"Arial\")\n",
    "fig_midpoint.show()"
   ]
  },
  {
   "cell_type": "markdown",
   "metadata": {},
   "source": [
    "#### 3.2.3. Endpoint\n",
    "\n",
    "And finally the Endpoint results can be plotted. They are made of 17 indicators gathered in 3 main categories that are the Ecosystems Quality, the Human Health and the Resources. Every indicators are expressed in points, which make them directly comparable to one another within a same category."
   ]
  },
  {
   "cell_type": "code",
   "execution_count": null,
   "metadata": {},
   "outputs": [],
   "source": [
    "x = [\n",
    "    [\"Ecosystems Quality\",\"Ecosystems Quality\",\"Ecosystems Quality\",\"Ecosystems Quality\",\"Ecosystems Quality\",\n",
    "     \"Ecosystems Quality\",\"Ecosystems Quality\",\"Ecosystems Quality\", \"Ecosystems Quality\",\"Human Health\", \"Human Health\",\n",
    "     \"Human Health\",\"Human Health\",\"Human Health\",\"Human Health\", \"Resources\", \"Resources\"],\n",
    "    [\"Terrestrial Acidification\", \"Terrestrial Ecotoxicity\", \"Agricultural Land Occupation\", \"Freshwater Eutrophication\", \n",
    "     \"Urban Land Occupation\", \"Freshwater Ecotoxicity\", \"Natural Land Transformation\", \"Marine Ecotoxicity\",\n",
    "     \"Climate Change\", \"Human Toxicity\", \"Photochemical Oxidant Formation\", \"Ozone Depletion\", \"Particulate Matter Formation\", \n",
    "     \"Ionizing Radiation\",\"Climate Change\", \"Fossil Depletion\", \"Metal Depletion\"]]  \n",
    "\n",
    "fig_endpoint= go.Figure()\n",
    "fig_endpoint.add_bar(x=x, y=SPP_problem[\"data:lca:endpoint:total:dataframe\"][:,0], name=\"Aircraft Production\")\n",
    "fig_endpoint.add_bar(x=x, y=SPP_problem[\"data:lca:endpoint:total:dataframe\"][:,1], name=\"Airport\")\n",
    "fig_endpoint.add_bar(x=x, y=SPP_problem[\"data:lca:endpoint:total:dataframe\"][:,2], name=\"Fuel Production\")\n",
    "fig_endpoint.add_bar(x=x, y=SPP_problem[\"data:lca:endpoint:total:dataframe\"][:,3], name=\"Aircraft Use\")\n",
    "fig_endpoint.update_layout(barmode=\"relative\", xaxis_title=\"Endpoint impact categories\", yaxis_title=\"Points\",\n",
    "                           title=\"<b>CeRAS Endpoint Impact Category results<b>\", template=\"simple_white\", \n",
    "                           font_family=\"Arial\", font_size=15, title_font_size=20, title_x=0.5,\n",
    "                           legend_title=\"<b>CeRAS LCA perimeters<b>\", width=1000, height=800, \n",
    "                           colorway=['darkorange', 'gold', 'darkgray', 'royalblue'], \n",
    "                           hoverlabel=dict(bgcolor=\"blue\", font_size=12, font_family=\"Arial\"),legend_font_family=\"Arial\")\n",
    "fig_endpoint.show()"
   ]
  },
  {
   "cell_type": "markdown",
   "metadata": {},
   "source": [
    "### 3.3. Range comparison\n",
    "It is now possible to compare the results obtained for the previous range with a shorter range of 500NM. \n",
    "\n",
    "First, the results for this latter need to be retrieved."
   ]
  },
  {
   "cell_type": "code",
   "execution_count": null,
   "metadata": {},
   "outputs": [],
   "source": [
    "RANGE_500NM_FILE = pth.join(DATA_FOLDER_PATH, \"operational_missions_out_500NM.xml\")\n",
    "\n",
    "variable = VariableIO(RANGE_500NM_FILE, None).read()\n",
    "\n",
    "midpoint_500 = variable[\"data:lca:midpoint:total:dataframe\"].value\n",
    "endpoint_500 = variable[\"data:lca:endpoint:total:dataframe\"].value\n",
    "Total_midpoint_500 = np.array(midpoint_500)\n",
    "Total_endpoint_500 = np.array(endpoint_500)"
   ]
  },
  {
   "cell_type": "markdown",
   "metadata": {},
   "source": [
    "Then, the comparison can be ploted. \n",
    "\n",
    "For all midpoint indicators, the results have been normalized with the results obtained for the 2750NM range, considered as the reference case. \n",
    "\n",
    "This way, the results are shown in percent and the difference between bars of the same environmental indicators represents the relative difference between both ranges."
   ]
  },
  {
   "cell_type": "code",
   "execution_count": null,
   "metadata": {},
   "outputs": [],
   "source": [
    "norm_2750 = SPP_problem[\"data:lca:midpoint:total:dataframe\"][:,-1]/SPP_problem[\"data:lca:midpoint:total:dataframe\"][:,-1]*100\n",
    "norm_500 = Total_midpoint_500[:,-1]/SPP_problem[\"data:lca:midpoint:total:dataframe\"][:,-1]*100\n",
    "\n",
    "Range={\"Indicators\":[\"Agricultural Land Occupation (m2.a)\", \"Climate Change (kg CO2-eq)\",\"Fossil Depletion (kg oil-eq)\", \n",
    "                    \"Freshwater Ecotoxicity (kg 1,4-DCB)\", \"Freshwater Eutrophication (kg P-eq)\", \"Human Toxicity (kg 1,4-DCB)\",\n",
    "                    \"Ionizing Radiation (kBq U235-eq)\",\"Marine Ecotoxicity (kg 1,4-DCB)\",\"Marine Eutrophication (kg N-eq)\", \n",
    "                    \"Metal Depletion (kg Fe-eq)\", \"Natural Land Transformation (m2)\", \"Ozone Depletion (kg CFC-11)\",\n",
    "                    \"Particulate Matter Formation (kg PM10-eq)\", \"Photochemical Oxidant Formation (kg NMVOC)\", \n",
    "                    \"Terrestrial Acidification (kg SO2-eq)\",\"Terrestrial Ecotoxicity (kg 1,4-DCB)\", \n",
    "                    \"Urban Land Occupation (m2.a)\", \"Water Depletion (m3)\"], \"2750NM\":norm_2750, \"500NM\":norm_500, \n",
    "       \"2750NM_total\":SPP_problem[\"data:lca:midpoint:total:dataframe\"][:,-1], \"500NM_total\": Total_midpoint_500[:,-1]}\n",
    "\n",
    "Range_df=pd.DataFrame(Range)\n",
    "\n",
    "fig_range=px.bar(data_frame=Range_df, x=\"Indicators\", y=[\"2750NM\",\"500NM\"], color_discrete_sequence=[\"royalblue\",\"firebrick\"], \n",
    "                 barmode=\"group\", title=\"<b>CeRAS Midpoint impacts category - Range case study<b>\", \n",
    "                 hover_data=[\"2750NM_total\", \"500NM_total\"], width=1000, height=800)\n",
    "fig_range.update_layout(template=\"simple_white\",xaxis_title=\"Midpoint Impacts\",xaxis_tickangle=-45, yaxis_title=\"Percentage\", \n",
    "                          font_family=\"Arial\", font_size=15, title_font_size=20, title_x=0.5, \n",
    "                         legend_title=\"<b>Range<b>\", legend_font_family=\"Arial\")\n",
    "fig_range.show()\n"
   ]
  },
  {
   "cell_type": "code",
   "execution_count": null,
   "metadata": {},
   "outputs": [],
   "source": []
  }
 ],
 "metadata": {
  "kernelspec": {
   "display_name": "Python 3 (ipykernel)",
   "language": "python",
   "name": "python3"
  },
  "language_info": {
   "codemirror_mode": {
    "name": "ipython",
    "version": 3
   },
   "file_extension": ".py",
   "mimetype": "text/x-python",
   "name": "python",
   "nbconvert_exporter": "python",
   "pygments_lexer": "ipython3",
   "version": "3.7.11"
  }
 },
 "nbformat": 4,
 "nbformat_minor": 5
}
