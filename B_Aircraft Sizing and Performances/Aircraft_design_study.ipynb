{
 "cells": [
  {
   "cell_type": "markdown",
   "id": "f2f0e0a2-9a49-440f-b22b-137c784c0f57",
   "metadata": {},
   "source": [
    "<div class=\"row\">\n",
    "  <div class=\"column\">\n",
    "    <img src=\"./img/logo-onera.png\" width=\"200\">\n",
    "  </div>\n",
    "  <div class=\"column\">\n",
    "    <img src=\"./img/logo-ISAE_SUPAERO.png\" width=\"200\">\n",
    "  </div>\n",
    "</div>"
   ]
  },
  {
   "cell_type": "markdown",
   "id": "c3d0d329-3a66-46cf-a13a-9b0d85a9bc9e",
   "metadata": {},
   "source": [
    "# Using FAST-OAD for the sizing and study of the aircraft"
   ]
  },
  {
   "cell_type": "markdown",
   "id": "008df12c-dec1-47c3-85d4-8a67ee6ec65f",
   "metadata": {
    "tags": []
   },
   "source": [
    "This notebooks aims to show you how FAST-OAD can be used to analyse the design of an aircraft and its performance on other mission than the design one. It will also aims to start a reflection on the performance difference between an aircraft used on a shorter mission and an aircraft used on its design mission.\n",
    "\n",
    "***\n",
    "***\n",
    "## Imports"
   ]
  },
  {
   "cell_type": "code",
   "execution_count": null,
   "id": "4335efff-4284-49b9-bc5f-e30d725dc653",
   "metadata": {},
   "outputs": [],
   "source": [
    "import os.path as pth\n",
    "import sys\n",
    "import logging\n",
    "import shutil\n",
    "import warnings\n",
    "\n",
    "warnings.filterwarnings(action='ignore')\n",
    "\n",
    "import openmdao.api as om\n",
    "\n",
    "import fastoad.api as oad\n",
    "\n",
    "sys.path.append(pth.abspath(\".\"))"
   ]
  },
  {
   "cell_type": "markdown",
   "id": "02b61f87-6012-4d7a-a002-503f89ed7e9b",
   "metadata": {},
   "source": [
    "## Working directories and reference files \n",
    "Here you can define your working directory and data storage folder as well as reference files names. "
   ]
  },
  {
   "cell_type": "code",
   "execution_count": null,
   "id": "5cde6632-cb09-4fd3-b771-c2c104a1473b",
   "metadata": {},
   "outputs": [],
   "source": [
    "logging.basicConfig(level=logging.INFO, format=\"%(levelname)-8s: %(message)s\")\n",
    "\n",
    "DATA_FOLDER_PATH = \"data\"\n",
    "\n",
    "WORK_FOLDER_PATH = \"workdir\"\n",
    "\n",
    "SOURCE_FILE = pth.join(DATA_FOLDER_PATH, \"Aircraft_reference_data.xml\")"
   ]
  },
  {
   "cell_type": "markdown",
   "id": "f6c237ea-13a8-439a-bd9d-2dc98abb5bea",
   "metadata": {},
   "source": [
    "## Sizing of the aircraft\n",
    "\n",
    "For the first part of this notebook, you will need to verify the sizing of your aircraft using FAST-OAD. To do so we will use a different way to compute the mission that the one used in the tutorials. In the tutorial, a simple Breguet formula was used, here we will use the mission file (It was possible to use it in the first tutorial, a comment made mention of it). This file allows you to describe segment after segment the mission you want your aircraft to fly. \n",
    "\n",
    "### 1.1. The mission file\n",
    "\n",
    "You will use the mission module to compute the fuel consumption over a specified mission. Therefore, you need to define the different phases your mission is composed of. That operation is done through the YAML [mission file](./data/design_mission.yml). If you have a closer look to this file, you will notice that it starts with a definition of the different flight phases (initial climb, climb, descent, holding, taxi) for which one or several flight parameter(s) is (are) varying.\n",
    "\n",
    "For exemple, for the initial climb phase, the first segment is performed at iso-speed with a variation of altitude up to 400ft, then a second segment defines an acceleration at iso-altitude up to 250kt and a third segment at iso-speed and targetting an altitude of 15000ft completes this phase.\n",
    "\n",
    "Each phases are then organised and completed with a cruise phase to form a route. Several routes can then be combined to form a mission profile. \n",
    "\n",
    "Each mission profile should have a unique name.\n",
    "\n",
    "For further information about the mission definition, please see the [official documentation](https://fast-oad.readthedocs.io/en/documentation/mission_module/index.html).\n",
    "\n",
    "### 1.2. The configuration file\n",
    "\n",
    "As already mentioned, the [configuration file](./data/oad_sizing.yml) you are using enables you run the full OAD sizing process. Here a particular attention is paid on the performance module definition. \n",
    "\n",
    "First, in this section, you will call the [mission file](./data/design_mission.yml) you want to use through the `mission_file_path` option. You will then indicate which mission profile to select accordingly to the naming convention you chose in the mission file. This is done using the `mission_name` option. In the present situation you will compute performances for the mission called `MTOW_mission`. \n",
    "\n",
    "Note also that the option `is_sizing` of the performance group is active. That means that the mission TOW computed by the performance module is considered as the design Maximum Take-Off Weight and will impact the aircraft design. \n",
    "\n",
    "You can also notice that the option `add_solver` is deactivated as solvers are already defined for the whole problem in the [configuration file](./data/oad_sizing.yml)."
   ]
  },
  {
   "cell_type": "code",
   "execution_count": null,
   "id": "1f8f12bf-d9cf-4f7e-ade6-fbb737412410",
   "metadata": {},
   "outputs": [],
   "source": [
    "OAD_CONFIGURATION_FILE = pth.join(DATA_FOLDER_PATH, \"oad_sizing.yml\")"
   ]
  },
  {
   "cell_type": "markdown",
   "id": "f9c6f283-517f-495b-afcf-7f208aad98c3",
   "metadata": {},
   "source": [
    "### 1.3. The input file\n",
    "You can now generate the input file and fill out the values that corresponds to your aircraft. If you look into the file you will see that some of the value have already been filled by the default values, you will need to change those to match the value of the aircraft. First, let's generate this input file."
   ]
  },
  {
   "cell_type": "code",
   "execution_count": null,
   "id": "7e0da491-3adb-409d-a7cd-1a1b93ce029f",
   "metadata": {},
   "outputs": [],
   "source": [
    "INPUT_FILE = oad.generate_inputs(OAD_CONFIGURATION_FILE, SOURCE_FILE, overwrite=True)\n",
    "\n",
    "oad.variable_viewer(INPUT_FILE)"
   ]
  },
  {
   "cell_type": "markdown",
   "id": "304fcbfd-4a89-44f4-bbe1-b60cbc37b375",
   "metadata": {},
   "source": [
    "Some of them might not be known, you can keep the default value for them. However, you need to fill out the values in the following cell so that the process does not take the default value rather than the one that correspond to your aircraft. To find in which unit you must fill your values, we will first list the problem variables using the following cell. There might be some adjustement to make to find the right values on some parameters. For instance the thickness-to-chord ratio is omputed in FAST-OAD using a formula base on the cruise mach and wing sweep angle. This formula however uses empirical coefficient which depends a lot on the airfoil technology so it might be wrong for new and/or old aircraft. The cruise mach being an important design parameters, the sweep angle could be changed a little in this case."
   ]
  },
  {
   "cell_type": "code",
   "execution_count": null,
   "id": "dfa2d394-3473-42bf-bf42-6435ec583366",
   "metadata": {},
   "outputs": [],
   "source": [
    "input_file = oad.DataFile(INPUT_FILE)\n",
    "\n",
    "# TLARs\n",
    "input_file[\"data:TLAR:NPAX\"].value = \n",
    "input_file[\"data:TLAR:approach_speed\"].value = \n",
    "input_file[\"data:TLAR:cruise_mach\"].value = \n",
    "input_file[\"data:TLAR:range\"].value = \n",
    "\n",
    "# Geometry\n",
    "input_file[\"data:geometry:cabin:aisle_width\"].value = \n",
    "input_file[\"data:geometry:cabin:seats:economical:count_by_row\"].value = \n",
    "input_file[\"data:geometry:cabin:seats:economical:length\"].value = \n",
    "input_file[\"data:geometry:cabin:seats:economical:width\"].value = \n",
    "\n",
    "input_file[\"data:geometry:flap:chord_ratio\"].value =\n",
    "input_file[\"data:geometry:flap:span_ratio\"].value = \n",
    "\n",
    "input_file[\"data:geometry:horizontal_tail:aspect_ratio\"].value = \n",
    "input_file[\"data:geometry:horizontal_tail:sweep_25\"].value = \n",
    "input_file[\"data:geometry:horizontal_tail:taper_ratio\"].value = \n",
    "input_file[\"data:geometry:horizontal_tail:thickness_ratio\"].value = \n",
    "\n",
    "input_file[\"data:geometry:propulsion:engine:y_ratio\"].value = \n",
    "\n",
    "input_file[\"data:geometry:vertical_tail:aspect_ratio\"].value = \n",
    "input_file[\"data:geometry:vertical_tail:sweep_25\"].value =\n",
    "input_file[\"data:geometry:vertical_tail:taper_ratio\"].value = \n",
    "input_file[\"data:geometry:vertical_tail:thickness_ratio\"].value = \n",
    "\n",
    "input_file[\"data:geometry:wing:aspect_ratio\"].value = \n",
    "input_file[\"data:geometry:wing:sweep_25\"].value =\n",
    "input_file[\"data:geometry:wing:kink:span_ratio\"].value =\n",
    "input_file[\"data:geometry:wing:virtual_taper_ratio\"].value = # Put arround 1.5 * the actual wing taper ratio\n",
    "input_file[\"data:geometry:wing:MAC:at25percent:x\"].value = \n",
    "\n",
    "# Propulsion\n",
    "input_file[\"data:propulsion:MTO_thrust\"].value = \n",
    "\n",
    "input_file[\"data:propulsion:rubber_engine:design_altitude\"].value = \n",
    "input_file[\"data:propulsion:rubber_engine:maximum_mach\"].value =\n",
    "input_file[\"data:propulsion:rubber_engine:overall_pressure_ratio\"].value =\n",
    "input_file[\"data:propulsion:rubber_engine:turbine_inlet_temperature\"].value = \n",
    "\n",
    "# Weight\n",
    "input_file[\"data:weight:aircraft:max_payload\"].value = \n",
    "input_file[\"data:weight:aircraft:payload\"].value = \n",
    "\n",
    "# Mission\n",
    "input_file[\"data:mission:MTOW_mission:diversion:distance\"].value = \n",
    "input_file[\"data:mission:MTOW_mission:holding:duration\"].value = \n",
    "input_file[\"data:mission:MTOW_mission:main_route:range\"].value = \n",
    "input_file[\"data:mission:MTOW_mission:takeoff:V2\"].value = \n",
    "input_file[\"data:mission:MTOW_mission:takeoff:fuel\"].value = \n",
    "\n",
    "input_file[\"data:mission:sizing:takeoff:flap_angle\"].value = \n",
    "input_file[\"data:mission:sizing:takeoff:slat_angle\"].value = \n",
    "input_file[\"data:mission:sizing:landing:flap_angle\"].value = \n",
    "input_file[\"data:mission:sizing:landing:slat_angle\"].value = \n",
    "input_file[\"data:mission:sizing:main_route:cruise:altitude\"].value = \n",
    "\n",
    "input_file.save()"
   ]
  },
  {
   "cell_type": "markdown",
   "id": "829f9576-be4a-4473-ad6d-c4f6e084edb0",
   "metadata": {},
   "source": [
    "You can check that the inputs are correctly written by using the following command:"
   ]
  },
  {
   "cell_type": "code",
   "execution_count": null,
   "id": "2ba1e87d-6c24-42a6-ba3f-b0c202e74ad2",
   "metadata": {},
   "outputs": [],
   "source": [
    "oad.variable_viewer(INPUT_FILE)"
   ]
  },
  {
   "cell_type": "markdown",
   "id": "0e99461e-a228-4a6d-ac41-822467568b39",
   "metadata": {},
   "source": [
    "### 1.4. Run the OAD process\n",
    "\n",
    "Now, run the problem and check the output file:"
   ]
  },
  {
   "cell_type": "code",
   "execution_count": null,
   "id": "49ffc340-015c-4970-8b6b-3e579ec307a1",
   "metadata": {},
   "outputs": [],
   "source": [
    "MTOW_problem = oad.evaluate_problem(OAD_CONFIGURATION_FILE, overwrite=True)"
   ]
  },
  {
   "cell_type": "markdown",
   "id": "4681a51f-8095-4382-9902-f33ad97c59b1",
   "metadata": {},
   "source": [
    "### 1.5. Results Analysis\n",
    "\n",
    "You can now print the output file and compare the results with he sizing obtained using Alcazar and with the reference data you found."
   ]
  },
  {
   "cell_type": "code",
   "execution_count": null,
   "id": "9b75e321-1391-45b2-ad2d-2ebcb689705d",
   "metadata": {},
   "outputs": [],
   "source": [
    "oad.variable_viewer(MTOW_problem.output_file_path)"
   ]
  },
  {
   "cell_type": "markdown",
   "id": "aa95a6f2-d910-483c-842d-fd3e4e82f4d3",
   "metadata": {},
   "source": [
    "Particularly, check the Maximum Take Off Weight (MTOW), the Operating Weight Empty (OWE) and the fuel consumption on the aircraft on its design mission. Are there differences with the sizing done in Alcazar or with the actual values. Where do these might be coming from ? \n",
    "\n",
    "A more practical way is to use the visualisation tools that were presented in a previous tutorial to plot the mass breakdown and the aircraft geometry and compare them with the reference aircraft data. "
   ]
  },
  {
   "cell_type": "code",
   "execution_count": null,
   "id": "eadb9a67-e69f-4fed-853a-23246793d23b",
   "metadata": {},
   "outputs": [],
   "source": [
    "oad.mass_breakdown_sun_plot(MTOW_problem.output_file_path)"
   ]
  },
  {
   "cell_type": "code",
   "execution_count": null,
   "id": "864f277b-b95a-4020-afdd-24d6c3335475",
   "metadata": {},
   "outputs": [],
   "source": [
    "fig = oad.mass_breakdown_bar_plot(MTOW_problem.output_file_path, name=\"FAST-OAD\")\n",
    "fig.show()"
   ]
  },
  {
   "cell_type": "code",
   "execution_count": null,
   "id": "da841f60-3980-4446-911a-d2f3a9a0bf82",
   "metadata": {},
   "outputs": [],
   "source": [
    "fig = oad.wing_geometry_plot(MTOW_problem.output_file_path, name=\"FAST-OAD\")\n",
    "fig.show()"
   ]
  },
  {
   "cell_type": "code",
   "execution_count": null,
   "id": "b9fec590-3399-40b2-a078-4c34b3844726",
   "metadata": {},
   "outputs": [],
   "source": [
    "oad.aircraft_geometry_plot(MTOW_problem.output_file_path)"
   ]
  },
  {
   "cell_type": "markdown",
   "id": "606975d5-bc65-48f8-8e49-b6c778d87d28",
   "metadata": {},
   "source": [
    "You can also plot the mission profile and fuel consumption history to compare with your computations: "
   ]
  },
  {
   "cell_type": "code",
   "execution_count": null,
   "id": "b62c6c16-1b75-4ea7-b4f9-b34a005af9b6",
   "metadata": {},
   "outputs": [],
   "source": [
    "SIZING_MISSION = pth.join(WORK_FOLDER_PATH, \"oad_sizing.csv\")\n",
    "\n",
    "mission = oad.MissionViewer()\n",
    "mission.add_mission(SIZING_MISSION, name=\"Aircraft design mission\")\n",
    "\n",
    "mission.display()"
   ]
  },
  {
   "cell_type": "markdown",
   "id": "e0eca9aa-32fb-4d7a-85af-376676bdfeb6",
   "metadata": {
    "tags": []
   },
   "source": [
    "***\n",
    "***\n",
    "\n",
    "## 2. Operational Missions\n",
    "\n",
    "Starting from your the FAST-OAD design of your aircraft you will now discover how to run a mission analysis for the an operational mission. The operationnal mission we will study is defined as follow:\n",
    "\n",
    "- Range = A value below the desing range (For example, on the CeRAS aircraft (https://ceras.ilr.rwth-aachen.de/tiki/tiki-index.php?page=Welcome) it is around 20% of the design range)\n",
    "- Diversion range = 200NM\n",
    "- Payload = Payload of the design mission\n",
    "\n",
    "For this mission the objective is to retrieve the fuel weight and consequently the take-off weight to later compare it to an other aircraft specifically design for the mission.\n",
    "\n",
    "The new mission will be defined in another [mission file](./data/operational_mission.yml) (though it could be done in the same file as for the sizing mission since only the range will change). They are composed of a main route and a diversion and only the range will be changed in the input file.\n",
    "\n",
    "### 2.1. Updating the configuration file \n",
    "Once you create an adapted mission file you should generate or retrieve a configuration file that would allow for a mission analysis to be run. Let's have a look to such a [file](./data/operational_mission_conf.yml): "
   ]
  },
  {
   "cell_type": "code",
   "execution_count": null,
   "id": "231f9acc-e542-40f1-8f0a-72e4771d5871",
   "metadata": {},
   "outputs": [],
   "source": [
    "CONFIGURATION_FILE = pth.join(DATA_FOLDER_PATH, \"operational_mission_conf.yml\")"
   ]
  },
  {
   "cell_type": "markdown",
   "id": "2895ec25-0747-4e33-bc48-dc8aa0114aed",
   "metadata": {},
   "source": [
    "The [configuration file](./data/operational_mission_conf.yml) shows that high-speed aerodynamics subgroup and performances modules are called.\n",
    "\n",
    "The option `adjust_fuel` that is set to **True** indicates that fuel weight is adjusted to the need of the mission. The take-off weight will be the results of an iterative procedure and is computed as follow: \n",
    "\n",
    "$ TOW = OWE + PL + BF - F_{taxi-out} - F_{TO\\ run} $ with $OWE$ from the OAD sizing results, $BF$ being the block (loaded) fuel, $F_{taxi-out}$ and $F_{TO\\ run}$ being respectively the consumed fuel during taxi-out and takeoff run phases. \n",
    "\n",
    "You need to set the option `add_solver` to **True** to allow for the iterative process to take place if no solvers are defined in the configuration file. \n",
    "\n",
    "Note again that the `mission_name` option must correspond to a mission described in the [mission file](./data/operational_mission.yml).\n",
    "\n",
    "### 2.2. The input file\n",
    "\n",
    "As indicated in the introduction of this part, you will start from the results of the OAD sizing process you have just run to compute the operational missions take-off weight and fuel consumption. \n",
    "\n",
    "To do so, you just have to use the XML [output file](./data/oad_sizing_out.xml) from the OAD process as the source file to generate the new input file: "
   ]
  },
  {
   "cell_type": "code",
   "execution_count": null,
   "id": "17a7d282-7605-4faf-9b1c-26d52f17c8f2",
   "metadata": {},
   "outputs": [],
   "source": [
    "SOURCE_FILE = pth.join(WORK_FOLDER_PATH, \"oad_sizing_out.xml\")\n",
    "input_file_op = oad.generate_inputs(CONFIGURATION_FILE, SOURCE_FILE, overwrite=True)"
   ]
  },
  {
   "cell_type": "markdown",
   "id": "e7552426-c7eb-45bb-87f6-646b7deb4a25",
   "metadata": {},
   "source": [
    "**Important note:** You should check carefully the mission inputs to be sure they are consistent with the mission specifications (mainly the range) and that no \"nan\" values are present. Don't forget to also set the correct payload."
   ]
  },
  {
   "cell_type": "code",
   "execution_count": null,
   "id": "3e5dcc64-a95d-4734-af7f-783a3f3a2e77",
   "metadata": {},
   "outputs": [],
   "source": [
    "oad.variable_viewer(input_file_op)"
   ]
  },
  {
   "cell_type": "markdown",
   "id": "4a161c1a-fb9e-405e-9edc-04fb6356b33b",
   "metadata": {},
   "source": [
    "### 2.3. Operational Missions Runs\n",
    "\n",
    "You can now run the missions analyses:"
   ]
  },
  {
   "cell_type": "code",
   "execution_count": null,
   "id": "fcaf38eb-f2ac-41a0-8396-ad0881469346",
   "metadata": {},
   "outputs": [],
   "source": [
    "operational_problem = oad.evaluate_problem(CONFIGURATION_FILE, overwrite=True)"
   ]
  },
  {
   "cell_type": "markdown",
   "id": "c7bedbcb-ae4b-428a-b410-1852e06dd3ef",
   "metadata": {},
   "source": [
    "The XML [output file](./workdir/operational_mission_out.xml) can be displayed in a table format using `variable_viewer`function. And you can compare the fuel consumptions and TOW with the values from the sizing mission just to see that they are indeed below the values for the sizing mission."
   ]
  },
  {
   "cell_type": "code",
   "execution_count": null,
   "id": "66ccd61a-755e-4444-a6fb-9965bb4cd036",
   "metadata": {},
   "outputs": [],
   "source": [
    "oad.variable_viewer(operational_problem.output_file_path)"
   ]
  },
  {
   "cell_type": "markdown",
   "id": "8149cb39-ab59-46c3-8fab-c7e96416e512",
   "metadata": {},
   "source": [
    "You can also take a look at the mission profile:"
   ]
  },
  {
   "cell_type": "code",
   "execution_count": null,
   "id": "babdefee-e5bd-416c-8856-506dfd572a22",
   "metadata": {},
   "outputs": [],
   "source": [
    "OP_MISSION = pth.join(WORK_FOLDER_PATH, \"operational_mission_study.csv\")\n",
    "\n",
    "mission = oad.MissionViewer()\n",
    "mission.add_mission(OP_MISSION, name=\"Aircraft operational mission\")\n",
    "\n",
    "mission.display()"
   ]
  },
  {
   "cell_type": "markdown",
   "id": "49874845-1b40-455a-bc87-f5df3b5bfad9",
   "metadata": {},
   "source": [
    "***\n",
    "***\n",
    "\n",
    "## 3. Redesign of the aircraft for the operational mission\n",
    "\n",
    "The next part of this notebook will consist in redesigning the original aircraft so that the performance mission you selected in the second part will be the design mission and assessing the change in terms of weight and fuel consumption. For this part, we will reuse the [mission file](./data/design_mission.yml) from the first part but we will use a diffent [configuration file](./data/redesign_sizing.yml) so that we can change the name of the input and output file.\n",
    "\n",
    "Since we used the same modules in the current configuration file than we did in the first part, the data we will need will remain the same, only their value are likely to change. Consequently, we will be able to use the input file from the first part as the source file for this third part, which is what we will do to avoid losing time. We will then be able to generate the input file based on this source file."
   ]
  },
  {
   "cell_type": "code",
   "execution_count": null,
   "id": "946f65c7-0d12-41e3-9752-70342666112b",
   "metadata": {},
   "outputs": [],
   "source": [
    "SOURCE_FILE_REDESIGN = INPUT_FILE\n",
    "REDESIGN_CONFIGURATON_FILE = pth.join(DATA_FOLDER_PATH, \"redesign_sizing.yml\")\n",
    "\n",
    "input_file_redesign = oad.generate_inputs(REDESIGN_CONFIGURATON_FILE, SOURCE_FILE_REDESIGN, overwrite=True)"
   ]
  },
  {
   "cell_type": "markdown",
   "id": "76c4a4a0-840c-4bb5-b549-7e82bbe2790f",
   "metadata": {},
   "source": [
    "Don't forget to change the relevant parameter to match the redesign we want. This can be done with the Variable Viewer, but don't forget to save the file after you've made your change or the inputs from the first part will be used."
   ]
  },
  {
   "cell_type": "code",
   "execution_count": null,
   "id": "1d8bb19c-a2c0-45ed-b216-a95b33b92747",
   "metadata": {},
   "outputs": [],
   "source": [
    "oad.variable_viewer(input_file_redesign)"
   ]
  },
  {
   "cell_type": "markdown",
   "id": "d31c4906-83b3-45da-85ce-9d6e3e740196",
   "metadata": {},
   "source": [
    "You can now run the new problem with the following cell:"
   ]
  },
  {
   "cell_type": "code",
   "execution_count": null,
   "id": "89ba7928-6040-4b74-bdcd-d21391c08093",
   "metadata": {},
   "outputs": [],
   "source": [
    "REDESIGN_problem = oad.evaluate_problem(REDESIGN_CONFIGURATON_FILE, overwrite=True)"
   ]
  },
  {
   "cell_type": "markdown",
   "id": "637199c9-bea9-4eb6-8182-2297f4ab89ab",
   "metadata": {},
   "source": [
    "The analysis of the results is left up to you. You can use the tools we presented in this notebook or in the second notebook to create plots for the report and for the comparaison of the aircrafts. We mainly expect a comparaison in the fuel consumption, the geometry of the aircraft and the mass breakdown but feel free to add any analysis that you feel like is relevant. You can use the next cell to execute your code. Don't forget that once you close your Binder session, all files are lost so regularly download the files of interest (source files, output files and this notebook if you made any change)."
   ]
  },
  {
   "cell_type": "code",
   "execution_count": null,
   "id": "35c87078-817f-4fdd-b44d-c570bc092668",
   "metadata": {},
   "outputs": [],
   "source": []
  }
 ],
 "metadata": {
  "kernelspec": {
   "display_name": "Python 3 (ipykernel)",
   "language": "python",
   "name": "python3"
  },
  "language_info": {
   "codemirror_mode": {
    "name": "ipython",
    "version": 3
   },
   "file_extension": ".py",
   "mimetype": "text/x-python",
   "name": "python",
   "nbconvert_exporter": "python",
   "pygments_lexer": "ipython3",
   "version": "3.8.12"
  }
 },
 "nbformat": 4,
 "nbformat_minor": 5
}
