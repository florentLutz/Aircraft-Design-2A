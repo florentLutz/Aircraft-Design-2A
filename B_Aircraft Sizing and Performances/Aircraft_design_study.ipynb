{
 "cells": [
  {
   "cell_type": "markdown",
   "id": "f2f0e0a2-9a49-440f-b22b-137c784c0f57",
   "metadata": {},
   "source": [
    "<div class=\"row\">\n",
    "  <div class=\"column\">\n",
    "    <img src=\"./img/logo-onera.png\" width=\"200\">\n",
    "  </div>\n",
    "  <div class=\"column\">\n",
    "    <img src=\"./img/logo-ISAE_SUPAERO.png\" width=\"200\">\n",
    "  </div>\n",
    "</div>"
   ]
  },
  {
   "cell_type": "markdown",
   "id": "c3d0d329-3a66-46cf-a13a-9b0d85a9bc9e",
   "metadata": {},
   "source": [
    "# Using FAST-OAD for the sizing and study of the aircraft"
   ]
  },
  {
   "cell_type": "markdown",
   "id": "008df12c-dec1-47c3-85d4-8a67ee6ec65f",
   "metadata": {
    "tags": []
   },
   "source": [
    "This notebooks aims to show you how FAST-OAD can be used to analyse the design of an aircraft and its performance on other mission than the design one. It will also aims to start a reflection on the performance difference between an aircraft used on a shuttle mission and an aircraft used on its design mission.\n",
    "\n",
    "***\n",
    "***\n",
    "## Imports"
   ]
  },
  {
   "cell_type": "code",
   "execution_count": 1,
   "id": "4335efff-4284-49b9-bc5f-e30d725dc653",
   "metadata": {},
   "outputs": [],
   "source": [
    "import os.path as pth\n",
    "import sys\n",
    "import logging\n",
    "import shutil\n",
    "import warnings\n",
    "\n",
    "warnings.filterwarnings(action='ignore')\n",
    "\n",
    "import openmdao.api as om\n",
    "\n",
    "import fastoad.api as oad\n",
    "\n",
    "sys.path.append(pth.abspath(\".\"))"
   ]
  },
  {
   "cell_type": "markdown",
   "id": "02b61f87-6012-4d7a-a002-503f89ed7e9b",
   "metadata": {},
   "source": [
    "## Working directories and reference files \n",
    "Here you can define your working directory and data storage folder as well as reference files names. "
   ]
  },
  {
   "cell_type": "code",
   "execution_count": 3,
   "id": "5cde6632-cb09-4fd3-b771-c2c104a1473b",
   "metadata": {},
   "outputs": [],
   "source": [
    "logging.basicConfig(level=logging.INFO, format=\"%(levelname)-8s: %(message)s\")\n",
    "\n",
    "DATA_FOLDER_PATH = \"data\"\n",
    "\n",
    "WORK_FOLDER_PATH = \"workdir\"\n",
    "\n",
    "SOURCE_FILE = pth.join(DATA_FOLDER_PATH, \"Aircraft_reference_data.xml\")"
   ]
  },
  {
   "cell_type": "markdown",
   "id": "f6c237ea-13a8-439a-bd9d-2dc98abb5bea",
   "metadata": {},
   "source": [
    "## Sizing of the aircraft\n",
    "\n",
    "For the first part of this notebook, you will need to verify the sizing of your aircraft using FAST-OAD. To do so we will use a different way to compute the mission that the one used in the tutorials. In the tutorial, a simple Breguet formula was used, here we will use the mission file (It was possible to use in the first tutorial, a comment made mention of it).\n",
    "\n",
    "### 1.1. The mission file\n",
    "\n",
    "You will use the mission module to compute the fuel consumption over a specified mission. Therefore, you need to define the different phases your mission is composed of. That operation is done through the YAML [mission file](./data/design_mission.yml). If you have a closer look to this file, you will notice that it starts with a definition of the different flight phases (initial climb, climb, descent, holding, taxi) for which one or several flight parameter(s) is (are) varying.\n",
    "\n",
    "For exemple, for the initial climb phase, the first segment is performed at iso-speed with a variation of altitude up to 400ft, then a second segment defines an acceleration at iso-altitude up to 250kt and a third segment at iso-speed and targetting an altitude of 15000ft completes this phase.\n",
    "\n",
    "Each phases are then organised and completed with a cruise phase to form a route. Several routes can then be combined to form a mission profile. \n",
    "\n",
    "Each mission profile should have a unique name.\n",
    "\n",
    "For further information about the mission definition, please see the [official documentation](https://fast-oad.readthedocs.io/en/documentation/mission_module/index.html).\n",
    "\n",
    "### 1.2. The configuration file\n",
    "\n",
    "As already mentioned, the [configuration file](./data/oad_sizing.yml) you are using enables you run the full OAD sizing process. Here a particular attention is paid on the performance module definition. \n",
    "\n",
    "First, in this section, you will call the [mission file](./data/design_mission.yml) you want to use through the `mission_file_path` option. You will then indicate which mission profile to select accordingly to the naming convention you chose in the mission file. This is done using the `mission_name` option. In the present situation you will compute performances for the mission called `MTOW_mission`. \n",
    "\n",
    "Note also that the option `is_sizing` of the performance group is active. That means that the mission TOW computed by the performance module is considered as the design Maximum Take-Off Weight and will impact the aircraft design. \n",
    "\n",
    "You can also notice that the option `add_solver` is deactivated as solvers are already defined for the whole problem in the [configuration file](./data/oad_sizing.yml)."
   ]
  },
  {
   "cell_type": "code",
   "execution_count": 4,
   "id": "1f8f12bf-d9cf-4f7e-ade6-fbb737412410",
   "metadata": {},
   "outputs": [],
   "source": [
    "OAD_CONFIGURATION_FILE = pth.join(DATA_FOLDER_PATH, \"oad_sizing.yml\")"
   ]
  },
  {
   "cell_type": "markdown",
   "id": "f9c6f283-517f-495b-afcf-7f208aad98c3",
   "metadata": {},
   "source": [
    "### 1.3. The input file\n",
    "You can now generate the input file and fill out the values that corresponds to your aircraft. If you look into the file you will see that some of the value asked are not known, you can keep the default value for most of them. However, you need to fill out the values in the following cell so that the process does not take the value rather than the one that correspond to your aircraft "
   ]
  },
  {
   "cell_type": "code",
   "execution_count": null,
   "id": "7e0da491-3adb-409d-a7cd-1a1b93ce029f",
   "metadata": {},
   "outputs": [],
   "source": [
    "input_file = oad.generate_inputs(OAD_CONFIGURATION_FILE, SOURCE_FILE, overwrite=True)\n",
    "\n",
    "# TLARs\n",
    "input_file[\"data:TLAR:NPAX\"] = \n",
    "input_file[\"data:TLAR:approach_speed\"] = \n",
    "input_file[\"data:TLAR:cruise_mach\"] = \n",
    "input_file[\"data:TLAR:range\"] = \n",
    "\n",
    "# Geometry\n",
    "input_file[\"data:geometry:cabin:aisle_width\"] = \n",
    "input_file[\"data:geometry:cabin:seats:economical:count_by_row\"] = \n",
    "input_file[\"data:geometry:cabin:seats:economical:length\"] = \n",
    "input_file[\"data:geometry:cabin:seats:economical:width\"] = \n",
    "\n",
    "input_file[\"data:geometry:flap:chord_ratio\"] = \n",
    "input_file[\"data:geometry:flap:span_ratio\"] = \n",
    "\n",
    "input_file[\"data:geometry:horizontal_tail:aspect_ratio\"] = \n",
    "input_file[\"data:geometry:horizontal_tail:sweep_25\"] = \n",
    "input_file[\"data:geometry:horizontal_tail:taper_ratio\"] = \n",
    "input_file[\"data:geometry:horizontal_tail:thickness_ratio\"] = \n",
    "\n",
    "input_file[\"data:geometry:propulsion:engine:y_ratio\"] = \n",
    "\n",
    "input_file[\"data:geometry:slat:chord_ratio\"] = \n",
    "input_file[\"data:geometry:slat:span_ratio\"] = \n",
    "\n",
    "input_file[\"data:geometry:vertical_tail:aspect_ratio\"] = \n",
    "input_file[\"data:geometry:vertical_tail:sweep_25\"] = \n",
    "input_file[\"data:geometry:vertical_tail:taper_ratio\"] = \n",
    "input_file[\"data:geometry:vertical_tail:thickness_ratio\"] = \n",
    "\n",
    "input_file[\"data:geometry:wing:aspect_ratio\"] = \n",
    "input_file[\"data:geometry:wing:sweep_25\"] = \n",
    "input_file[\"data:geometry:wing:kink:span_ratio\"] = \n",
    "input_file[\"data:geometry:wing:MAC:at25percent:x\"] = \n",
    "\n",
    "# Propuslion\n",
    "input_file[\"data:propulsion:MTO_thrust\"] = \n",
    "\n",
    "input_file[\"data:propulsion:rubber_engine:design_altitude\"] =\n",
    "input_file[\"data:propulsion:rubber_engine:maximum_mach\"] =\n",
    "input_file[\"data:propulsion:rubber_engine:overall_pressure_ratio\"] =\n",
    "input_file[\"data:propulsion:rubber_engine:turbine_inlet_temperature\"] =\n",
    "\n",
    "# Weight\n",
    "input_file[\"data:weight:aircraft:max_payload\"] = \n",
    "input_file[\"data:weight:aircraft:payload\"] = \n",
    "\n",
    "# Mission\n",
    "inputs_file[\"data:mission:MTOW_mission:diversion:distance\"] = \n",
    "inputs_file[\"data:mission:MTOW_mission:holding:duration\"] = \n",
    "inputs_file[\"data:mission:MTOW_mission:main_route:range\"] = \n",
    "inputs_file[\"data:mission:MTOW_mission:takeoff:V2\"] = \n",
    "inputs_file[\"data:mission:MTOW_mission:takeoff:fuel\"] = \n",
    "\n",
    "inputs_file[\"data:mission:sizing:takeoff:flap_angle\"] = \n",
    "inputs_file[\"data:mission:sizing:takeoff:slat_angle\"] = \n",
    "inputs_file[\"data:mission:sizing:landing:flap_angle\"] = \n",
    "inputs_file[\"data:mission:sizing:landing:slat_angle\"] = \n",
    "inputs_file[\"data:mission:sizing:main_route:cruise:altitude\"] = "
   ]
  },
  {
   "cell_type": "markdown",
   "id": "0e99461e-a228-4a6d-ac41-822467568b39",
   "metadata": {},
   "source": [
    "### 1.4. Run the OAD process\n",
    "\n",
    "Now, run the problem and check the output file:"
   ]
  },
  {
   "cell_type": "code",
   "execution_count": null,
   "id": "49ffc340-015c-4970-8b6b-3e579ec307a1",
   "metadata": {},
   "outputs": [],
   "source": []
  }
 ],
 "metadata": {
  "kernelspec": {
   "display_name": "Python 3 (ipykernel)",
   "language": "python",
   "name": "python3"
  },
  "language_info": {
   "codemirror_mode": {
    "name": "ipython",
    "version": 3
   },
   "file_extension": ".py",
   "mimetype": "text/x-python",
   "name": "python",
   "nbconvert_exporter": "python",
   "pygments_lexer": "ipython3",
   "version": "3.8.12"
  }
 },
 "nbformat": 4,
 "nbformat_minor": 5
}
